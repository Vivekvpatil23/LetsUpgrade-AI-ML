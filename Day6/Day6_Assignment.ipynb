{
 "cells": [
  {
   "cell_type": "code",
   "execution_count": 6,
   "metadata": {},
   "outputs": [
    {
     "name": "stdout",
     "output_type": "stream",
     "text": [
      "Company Name : google\n"
     ]
    }
   ],
   "source": [
    "'''Question 1:\n",
    "Assuming that we have some email addresses in the \"username@companyname.com\" format, please write program\n",
    "to print the company name of a given email address. Both user names and company names are composed of letters\n",
    "only.'''\n",
    "def email_sp(email):\n",
    "    #username=email.split('@')[0]\n",
    "    comp=email.split('@')[1]\n",
    "    comp_name=comp.split('.')[0]\n",
    "    \n",
    "    \n",
    "    \n",
    "    print('Company Name :',comp_name)\n",
    "email_sp('john@google.com')"
   ]
  },
  {
   "cell_type": "code",
   "execution_count": 7,
   "metadata": {},
   "outputs": [
    {
     "name": "stdout",
     "output_type": "stream",
     "text": [
      "Enter the words:without,hello,bag,world\n",
      "bag,hello,without,world\n"
     ]
    }
   ],
   "source": [
    "'''Question 2:\n",
    "Write a program that accepts a comma-separated sequence of words as input and prints the words in a comma\n",
    "separated sequence after sorting them alphabetically.'''\n",
    "\n",
    "a=input(\"Enter the words:\")\n",
    "word=[b for b in a.split(',')]\n",
    "print(\",\".join(sorted(list(set(word)))))"
   ]
  },
  {
   "cell_type": "markdown",
   "metadata": {},
   "source": [
    "'''Question 3:\n",
    "Create your own Jupyter Notebook for Sets.'''\n",
    "\n",
    "- Set is colloection of element in unorder and unindex.\n",
    "- To access a element in set we can't referring to a index because thay are in unorder in nature. But for accessing the      element of set we can use 'for' loop .And to access the specified value we are using 'in' keyword.\n",
    "- In set there are number of funcation is used for performing the task on element.\n",
    "   funcation like add(),union(),update(),del(),clear(),pop(),discard(),len() ,..ect.\n"
   ]
  },
  {
   "cell_type": "code",
   "execution_count": 17,
   "metadata": {},
   "outputs": [
    {
     "name": "stdout",
     "output_type": "stream",
     "text": [
      "{'cherry', 'orange', 'banana', 'apple'}\n",
      "4\n",
      "{'cherry', 'orange', 'apple'}\n",
      "{'microsoft', 'google', 'orange', 'apple', 'cherry'}\n"
     ]
    }
   ],
   "source": [
    "''' Quation 3: Example of set funcation'''\n",
    "s={\"apple\", \"banana\", \"cherry\"}\n",
    "q = {\"google\", \"microsoft\", \"apple\"}\n",
    "\n",
    "s.add('orange')\n",
    "print(s)\n",
    "print(len(s))\n",
    "s.remove('banana')\n",
    "print(s)\n",
    "r = q.union(s)\n",
    "print(r)"
   ]
  },
  {
   "cell_type": "code",
   "execution_count": 9,
   "metadata": {},
   "outputs": [
    {
     "name": "stdout",
     "output_type": "stream",
     "text": [
      "5\n"
     ]
    }
   ],
   "source": [
    "'''Question 4:\n",
    "Given a list of n-1 numbers ranging from 1 to n, your task is to find the missing number. There are no duplicates.'''\n",
    "def missingNo(a): \n",
    "        n=len(a)\n",
    "        total=(n+1)*(n+2)/2\n",
    "        sum_a=sum(a)\n",
    "        return total - sum_a\n",
    "a=[1 ,2 ,4 ,6 ,3 ,7 ,8]\n",
    "num=int(missingNo(a))\n",
    "print(num)"
   ]
  },
  {
   "cell_type": "code",
   "execution_count": 14,
   "metadata": {},
   "outputs": [
    {
     "name": "stdout",
     "output_type": "stream",
     "text": [
      "List after removing duplicate elements\n",
      "list2:  [12, 24, 35, 88, 120, 155]\n"
     ]
    }
   ],
   "source": [
    "'''Question 5:\n",
    "With a given list L, write a program to print this list L after removing all duplicate values with original order reserved.'''\n",
    "\n",
    "list1=[12,24,35,24,88,120,155,88,120,155]\n",
    "list2=[]\n",
    "for n in list1:\n",
    "    if n not in list2:\n",
    "           list2.append(n)\n",
    "print(\"List after removing all duplicate values is :\")\n",
    "print(\"list2: \", list2)"
   ]
  },
  {
   "cell_type": "code",
   "execution_count": null,
   "metadata": {},
   "outputs": [],
   "source": []
  }
 ],
 "metadata": {
  "kernelspec": {
   "display_name": "Python 3",
   "language": "python",
   "name": "python3"
  },
  "language_info": {
   "codemirror_mode": {
    "name": "ipython",
    "version": 3
   },
   "file_extension": ".py",
   "mimetype": "text/x-python",
   "name": "python",
   "nbconvert_exporter": "python",
   "pygments_lexer": "ipython3",
   "version": "3.7.6"
  }
 },
 "nbformat": 4,
 "nbformat_minor": 4
}
