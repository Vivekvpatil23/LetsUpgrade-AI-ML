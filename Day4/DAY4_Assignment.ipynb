{
 "cells": [
  {
   "cell_type": "code",
   "execution_count": 1,
   "metadata": {
    "scrolled": true
   },
   "outputs": [
    {
     "name": "stdout",
     "output_type": "stream",
     "text": [
      "Enter the first complex number: 1+4j\n",
      "Enter the secound complex number: 5+4j\n",
      "Addition of two complex number:  (6+8j)\n",
      "Subtraction of two complex number:  (-4+0j)\n",
      "Multiplication of two complex number:  (-11+24j)\n",
      "Division of two complex number:  (0.5121951219512195+0.39024390243902446j)\n"
     ]
    }
   ],
   "source": [
    "'''Question 1 :\n",
    "Research on whether addition, subtraction, multiplication, division, floor division and modulo\n",
    "operations be performed on complex numbers. Based on your study, implement a Python\n",
    "program to demonstrate these operations'''\n",
    "\n",
    "x = complex(input(\"Enter the first complex number: \"))\n",
    "y = complex(input(\"Enter the secound complex number: \"))\n",
    "\n",
    "add=x+y\n",
    "print(\"Addition of two complex number: \",add)\n",
    "\n",
    "sub=x-y\n",
    "print(\"Subtraction of two complex number: \",sub)\n",
    "\n",
    "mul=x*y\n",
    "print(\"Multiplication of two complex number: \",mul)\n",
    "\n",
    "div=x/y\n",
    "print(\"Division of two complex number: \",div)\n",
    "\n",
    "# Operations like floor division and modulo cannot be performed"
   ]
  },
  {
   "cell_type": "markdown",
   "metadata": {},
   "source": [
    "Question 2 :\n",
    "Research on range() functions and its parameters. Create a markdown cell and write in your own\n",
    "words (no copy-paste from google please) what you understand about it. Implement a small\n",
    "program of your choice on the same.\n",
    "\n",
    "Ans:- Range() function contains three parameters, 1.Start 2.Stop 3.Steps\n",
    "      Range() function is only usefull for integers.\n",
    "      For 'Start' and 'Steps'this both are optional having default value are 0 and 1.\n",
    "      For 'Stop' it is required to tell where to stop. "
   ]
  },
  {
   "cell_type": "code",
   "execution_count": 5,
   "metadata": {},
   "outputs": [
    {
     "name": "stdout",
     "output_type": "stream",
     "text": [
      "Enter the num: 10\n",
      "\n",
      "1 \n",
      "2 2 \n",
      "3 3 3 \n",
      "4 4 4 4 \n",
      "5 5 5 5 5 \n",
      "6 6 6 6 6 6 \n",
      "7 7 7 7 7 7 7 \n",
      "8 8 8 8 8 8 8 8 \n",
      "9 9 9 9 9 9 9 9 9 \n"
     ]
    }
   ],
   "source": [
    "x =int(input(\"Enter the num: \"))\n",
    "for a in range(x):\n",
    "    for b in range(a):\n",
    "        print(a,end=\" \")\n",
    "    print()"
   ]
  },
  {
   "cell_type": "code",
   "execution_count": 6,
   "metadata": {},
   "outputs": [
    {
     "name": "stdout",
     "output_type": "stream",
     "text": [
      "Enter the fisrt number: 100\n",
      "Enter the second number: 45\n",
      "Subtraction is:  55\n",
      "Multiplication is:  4500\n"
     ]
    }
   ],
   "source": [
    "'''Question 3:\n",
    " Consider two numbers. Perform their subtraction and if the result of subtraction is greater than\n",
    "25, print their multiplication result else print their division result.'''\n",
    "\n",
    "x = int(input(\"Enter the fisrt number: \"))\n",
    "y = int(input(\"Enter the second number: \"))\n",
    "\n",
    "z = x - y\n",
    "print(\"Subtraction is: \",z)\n",
    "if(z>25):\n",
    "    w = x*y\n",
    "    print(\"Multiplication is: \",w)\n",
    "else:\n",
    "    w = x/y\n",
    "    print(\"Division is: \",w)"
   ]
  },
  {
   "cell_type": "code",
   "execution_count": 4,
   "metadata": {},
   "outputs": [
    {
     "name": "stdout",
     "output_type": "stream",
     "text": [
      "6 square of that number minus 2\n",
      "8 square of that number minus 2\n",
      "10 square of that number minus 2\n",
      "12 square of that number minus 2\n",
      "56 square of that number minus 2\n",
      "78 square of that number minus 2\n",
      "90 square of that number minus 2\n"
     ]
    }
   ],
   "source": [
    "'''Question 4:\n",
    "Consider a list of 10 elements of integer values. If the number in the list is divisible by 2, print the\n",
    "result as \"square of that number minus 2\".'''\n",
    "\n",
    "n=[1,3,5,6,8,10,12,56,78,90]\n",
    "for a in n:\n",
    "    if (a%2==0):\n",
    "        print(a,\"square of that number minus 2\")"
   ]
  },
  {
   "cell_type": "code",
   "execution_count": 8,
   "metadata": {},
   "outputs": [
    {
     "name": "stdout",
     "output_type": "stream",
     "text": [
      "96\n",
      "76\n",
      "45\n",
      "34\n",
      "21\n",
      "22\n"
     ]
    }
   ],
   "source": [
    "'''Question 5:\n",
    "Consider a list of 10 elements. Print all the elements in the list which are greater than 7 when that\n",
    "number is divided 2.'''\n",
    "\n",
    "a = [2,5,8,96,76,45,14,34,21,22]\n",
    "\n",
    "for i in a:\n",
    "    if(i/2>7):\n",
    "        print(i)"
   ]
  },
  {
   "cell_type": "code",
   "execution_count": null,
   "metadata": {},
   "outputs": [],
   "source": []
  }
 ],
 "metadata": {
  "kernelspec": {
   "display_name": "Python 3",
   "language": "python",
   "name": "python3"
  },
  "language_info": {
   "codemirror_mode": {
    "name": "ipython",
    "version": 3
   },
   "file_extension": ".py",
   "mimetype": "text/x-python",
   "name": "python",
   "nbconvert_exporter": "python",
   "pygments_lexer": "ipython3",
   "version": "3.7.6"
  }
 },
 "nbformat": 4,
 "nbformat_minor": 4
}
