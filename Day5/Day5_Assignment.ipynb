{
 "cells": [
  {
   "cell_type": "code",
   "execution_count": 10,
   "metadata": {},
   "outputs": [
    {
     "name": "stdout",
     "output_type": "stream",
     "text": [
      "3  5  7  11  13  17  19  23  29  31  37  41  43  47  53  59  61  67  71  73  "
     ]
    }
   ],
   "source": [
    "'''Question 1 :\n",
    "Write a Python program to find the first 20 non-even prime natural numbers.'''\n",
    "\n",
    "n = 20\n",
    "a = 0\n",
    "b = 0\n",
    "while a != n:\n",
    "    if b > 1:\n",
    "        for i in range(2,b):\n",
    "            if(b % i) == 0:\n",
    "                break\n",
    "        else:\n",
    "                if(b % 2 != 0):\n",
    "                    print(b,end=\"  \")\n",
    "                    a=a+1\n",
    "    b +=1\n",
    "\n",
    "    "
   ]
  },
  {
   "cell_type": "code",
   "execution_count": 17,
   "metadata": {},
   "outputs": [
    {
     "name": "stdout",
     "output_type": "stream",
     "text": [
      "Hello letsupgared\n",
      "hello letsupgaredPython Programming\n",
      "HELLO LETSUPGARED\n",
      "python programming\n",
      "pYTHON pROGRAMMING\n",
      "18\n",
      "False\n",
      "helle letsupgared\n",
      "-1\n",
      "True\n",
      "False\n",
      "False\n",
      "['Python', 'Programming']\n",
      "Hello Letsupgared\n",
      "6\n"
     ]
    }
   ],
   "source": [
    "'''Question 2 :\n",
    "Write a Python program to implement 15 functions of string.'''\n",
    "\n",
    "s1=\"hello letsupgared\"\n",
    "s2=\"Python Programming\"\n",
    "print(s1.capitalize())\n",
    "print(s1+s2)\n",
    "print(s1.upper())\n",
    "print(s2.lower())\n",
    "print(s2.swapcase())\n",
    "print(len(s2))\n",
    "print(s2.isalpha())\n",
    "print(s1.replace('o','e'))\n",
    "print(s1.find('x'))\n",
    "print(s1.islower())\n",
    "print(s2.isdigit())\n",
    "print(s1.isspace())\n",
    "print(s2.split())\n",
    "print(s1.title())\n",
    "print(s1.index(\"letsupgared\"))"
   ]
  },
  {
   "cell_type": "code",
   "execution_count": 19,
   "metadata": {},
   "outputs": [
    {
     "name": "stdout",
     "output_type": "stream",
     "text": [
      "Enter the first word: anna\n",
      "Enter the second word: nana\n",
      "anna is a Palindrome\n",
      "nana is a Palindrome\n",
      "anna and nana are not a Anagram\n"
     ]
    }
   ],
   "source": [
    "'''Question 3:\n",
    "Write a Python program to check if the given string is a Palindrome or Anagram or None of them.\n",
    "Display the message accordingly to the user.'''\n",
    "\n",
    "import string \n",
    "\n",
    "def check_text(word1, word2):\n",
    "    \n",
    "    \n",
    "    texta = word1.strip().translate(str.maketrans('', '', string.punctuation)).lower().replace(' ', '')\n",
    "    textb = word2.strip().translate(str.maketrans('', '', string.punctuation)).lower().replace(' ', '')\n",
    "\n",
    "    palindrome1 = texta[::-1]\n",
    "    palindrome2 = texta[::-1]\n",
    "    \n",
    "    if texta == palindrome1:\n",
    "        print(word1,\"is a Palindrome\")\n",
    "    else :\n",
    "        print(word1,\"is not a Palindrome\")\n",
    "    if texta == palindrome2:\n",
    "        print(word2,\"is a Palindrome\")\n",
    "    else:\n",
    "        print(word2,\"is not a Palindrome\")\n",
    "        \n",
    "    anagram1 = ''.join(sorted(texta)) \n",
    "    anagram2 = ''.join(sorted(textb)) \n",
    "    \n",
    "    if anagram1 == anagram2:\n",
    "        print(word1,\"and\",word2,\"are not a Anagram\")\n",
    "    else:\n",
    "        print(word1,\"and\",word2,\"are not a Anagram\")\n",
    "\n",
    "word1 = input(\"Enter the first word: \")\n",
    "word2 = input(\"Enter the second word: \")\n",
    "\n",
    "check_text(word1,word2)"
   ]
  },
  {
   "cell_type": "code",
   "execution_count": 20,
   "metadata": {},
   "outputs": [
    {
     "name": "stdout",
     "output_type": "stream",
     "text": [
      "drdarshaningleaimltrainer\n"
     ]
    }
   ],
   "source": [
    "'''Question 4:\n",
    "Write a Python's user defined function that removes all the additional characters from the string\n",
    "and converts it finally to lower case using built-in lower(). eg: If the string is \"Dr. Darshan Ingle\n",
    "@AI-ML Trainer\", then the output be \"drdarshaningleaimltrainer\".'''\n",
    "import string\n",
    "def text1(text):\n",
    "    textpr1 = text.strip().translate(str.maketrans('', '', string.punctuation)).lower().replace(' ', '')\n",
    "    \n",
    "    return textpr1\n",
    "\n",
    "text2 = \"Dr. Darshan Ingle @AI-ML Trainer\"\n",
    "result = text1(text2)\n",
    "print(result)"
   ]
  },
  {
   "cell_type": "code",
   "execution_count": null,
   "metadata": {},
   "outputs": [],
   "source": []
  }
 ],
 "metadata": {
  "kernelspec": {
   "display_name": "Python 3",
   "language": "python",
   "name": "python3"
  },
  "language_info": {
   "codemirror_mode": {
    "name": "ipython",
    "version": 3
   },
   "file_extension": ".py",
   "mimetype": "text/x-python",
   "name": "python",
   "nbconvert_exporter": "python",
   "pygments_lexer": "ipython3",
   "version": "3.7.6"
  }
 },
 "nbformat": 4,
 "nbformat_minor": 4
}
