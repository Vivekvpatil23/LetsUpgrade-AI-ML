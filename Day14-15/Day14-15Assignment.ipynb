{
 "cells": [
  {
   "cell_type": "markdown",
   "metadata": {},
   "source": [
    "# 1. Create a 3x3x3 array with random values "
   ]
  },
  {
   "cell_type": "code",
   "execution_count": 17,
   "metadata": {},
   "outputs": [],
   "source": [
    "import numpy as np\n",
    "import sys"
   ]
  },
  {
   "cell_type": "code",
   "execution_count": 13,
   "metadata": {},
   "outputs": [
    {
     "name": "stdout",
     "output_type": "stream",
     "text": [
      "[[[0.2717869  0.20931496 0.87950592]\n",
      "  [0.27007947 0.32868142 0.63521225]\n",
      "  [0.20816766 0.89211813 0.04211063]]\n",
      "\n",
      " [[0.81386997 0.83658212 0.14495486]\n",
      "  [0.54239228 0.20933525 0.08243857]\n",
      "  [0.20246318 0.22719348 0.83719349]]\n",
      "\n",
      " [[0.12261811 0.02588046 0.56478964]\n",
      "  [0.85007815 0.73025066 0.02603564]\n",
      "  [0.35096239 0.75595518 0.49465582]]]\n"
     ]
    }
   ],
   "source": [
    "b = np.random.random((3,3,3))\n",
    "print(b)"
   ]
  },
  {
   "cell_type": "markdown",
   "metadata": {},
   "source": [
    "# 2.Create a 5x5 matrix with values 1,2,3,4 just below the diagonal"
   ]
  },
  {
   "cell_type": "code",
   "execution_count": 14,
   "metadata": {},
   "outputs": [
    {
     "name": "stdout",
     "output_type": "stream",
     "text": [
      "[[1 0 0 0]\n",
      " [0 2 0 0]\n",
      " [0 0 3 0]\n",
      " [0 0 0 4]]\n"
     ]
    }
   ],
   "source": [
    "a = np.diag([1, 2, 3, 4])\n",
    "print(a)"
   ]
  },
  {
   "cell_type": "markdown",
   "metadata": {},
   "source": [
    "# 3.Create a 8x8 matrix and fill it with a checkerboard pattern"
   ]
  },
  {
   "cell_type": "code",
   "execution_count": 15,
   "metadata": {},
   "outputs": [
    {
     "name": "stdout",
     "output_type": "stream",
     "text": [
      "[[0 1 0 1 0 1 0 1]\n",
      " [1 0 1 0 1 0 1 0]\n",
      " [0 1 0 1 0 1 0 1]\n",
      " [1 0 1 0 1 0 1 0]\n",
      " [0 1 0 1 0 1 0 1]\n",
      " [1 0 1 0 1 0 1 0]\n",
      " [0 1 0 1 0 1 0 1]\n",
      " [1 0 1 0 1 0 1 0]]\n"
     ]
    }
   ],
   "source": [
    "a = np.ones((3,3))\n",
    "a = np.zeros((8,8),dtype=int)\n",
    "a[1::2,::2] = 1\n",
    "a[::2,1::2] = 1\n",
    "print(a)"
   ]
  },
  {
   "cell_type": "markdown",
   "metadata": {},
   "source": [
    "# 4. Normalize a 5x5 random matrix"
   ]
  },
  {
   "cell_type": "code",
   "execution_count": 16,
   "metadata": {},
   "outputs": [
    {
     "name": "stdout",
     "output_type": "stream",
     "text": [
      "Before Normalize:\n",
      "[[0.30248057 0.16594019 0.27119003 0.7036491  0.07750695]\n",
      " [0.49234448 0.01216328 0.84435142 0.32536597 0.6123907 ]\n",
      " [0.02139443 0.52846704 0.85336183 0.06038605 0.4458169 ]\n",
      " [0.57310974 0.82332262 0.66986769 0.18999955 0.51477829]\n",
      " [0.57405096 0.38725326 0.72716612 0.77472013 0.83973147]]\n",
      "After normalize:\n",
      "[[0.34512338 0.18280691 0.30792581 0.8220245  0.07767925]\n",
      " [0.5708298  0.         0.9892886  0.37232909 0.71353834]\n",
      " [0.0109738  0.61377157 1.         0.05732627 0.51551874]\n",
      " [0.66684192 0.96428999 0.78186583 0.21140819 0.59749867]\n",
      " [0.66796083 0.44589945 0.84998106 0.90651232 0.98379649]]\n"
     ]
    }
   ],
   "source": [
    "y= np.random.random((5,5))\n",
    "print(\"Before Normalize:\")\n",
    "print(y)\n",
    "ymax, ymin = y.max(), y.min()\n",
    "y = (y - ymin)/(ymax - ymin)\n",
    "print(\"After normalize:\")\n",
    "print(y)"
   ]
  },
  {
   "cell_type": "markdown",
   "metadata": {},
   "source": [
    "# 5.  How to find common values between two arrays?"
   ]
  },
  {
   "cell_type": "code",
   "execution_count": 18,
   "metadata": {},
   "outputs": [
    {
     "name": "stdout",
     "output_type": "stream",
     "text": [
      "a:  [10 22 53 56 66 98]\n",
      "b:  [11, 53, 1, 56]\n",
      "Common values between array a and b :\n",
      "[53 56]\n"
     ]
    }
   ],
   "source": [
    "a = np.array([10,22,53,56,66,98])\n",
    "print(\"a: \",a)\n",
    "b = [11,53,1,56]\n",
    "print(\"b: \",b)\n",
    "print(\"Common values between array a and b :\")\n",
    "print(np.intersect1d(a, b))\n"
   ]
  },
  {
   "cell_type": "markdown",
   "metadata": {},
   "source": [
    "# 6.How to get the dates of yesterday, today and tomorrow?"
   ]
  },
  {
   "cell_type": "code",
   "execution_count": 19,
   "metadata": {},
   "outputs": [
    {
     "name": "stdout",
     "output_type": "stream",
     "text": [
      "Yestraday:  2020-07-24\n",
      "Today:  2020-07-25\n",
      "Tomorrow:  2020-07-26\n"
     ]
    }
   ],
   "source": [
    "yesterday = np.datetime64('today', 'D') - np.timedelta64(1, 'D')\n",
    "print(\"Yestraday: \",yesterday)\n",
    "today     = np.datetime64('today', 'D')\n",
    "print(\"Today: \",today)\n",
    "tomorrow  = np.datetime64('today', 'D') + np.timedelta64(1, 'D')\n",
    "print(\"Tomorrow: \",tomorrow)"
   ]
  },
  {
   "cell_type": "markdown",
   "metadata": {},
   "source": [
    "# 7. Consider two random array A and B, check if they are equal"
   ]
  },
  {
   "cell_type": "code",
   "execution_count": 7,
   "metadata": {},
   "outputs": [
    {
     "name": "stdout",
     "output_type": "stream",
     "text": [
      "First array:\n",
      "[2 0 1 0 0 1 1 1]\n",
      "First array:\n",
      "[0 2 1 2 2 0 1 1]\n",
      "Check weather above two array are equal or not: \n",
      "False\n"
     ]
    }
   ],
   "source": [
    "a = np.random.randint(0,3,8)\n",
    "print(\"First array:\")\n",
    "print(a)\n",
    "b =  np.random.randint(0,3,8)\n",
    "print(\"First array:\")\n",
    "print(b)\n",
    "print(\"Check weather above two array are equal or not: \")\n",
    "q=np.allclose(a,b)\n",
    "print(q)\n"
   ]
  },
  {
   "cell_type": "markdown",
   "metadata": {},
   "source": [
    "# 8.Create random vector of size 10 and replace the maximum value by 0 "
   ]
  },
  {
   "cell_type": "code",
   "execution_count": 16,
   "metadata": {},
   "outputs": [
    {
     "name": "stdout",
     "output_type": "stream",
     "text": [
      "Vector: \n",
      " [0.39287401 0.94013531 0.30661733 0.86681148 0.58802166 0.00131435\n",
      " 0.6534446  0.70163126 0.7926106  0.29853103]\n",
      "Max value replaced by 0 is:\n",
      " [0.39287401 0.         0.30661733 0.86681148 0.58802166 0.00131435\n",
      " 0.6534446  0.70163126 0.7926106  0.29853103]\n"
     ]
    }
   ],
   "source": [
    "a=np.random.random(10)\n",
    "print(\"Vector: \\n\",a)\n",
    "\n",
    "a[a.argmax()]=0\n",
    "print(\"Max value replaced by 0 is:\\n\",a)"
   ]
  },
  {
   "cell_type": "markdown",
   "metadata": {},
   "source": [
    "# 9. How to print all the values of an array?"
   ]
  },
  {
   "cell_type": "code",
   "execution_count": 20,
   "metadata": {},
   "outputs": [
    {
     "name": "stdout",
     "output_type": "stream",
     "text": [
      "[ 0  1  2  3  4  5  6  7  8  9 10 11 12 13 14 15 16 17 18 19 20 21 22 23\n",
      " 24 25 26 27 28 29]\n"
     ]
    }
   ],
   "source": [
    "a=np.arange(30)\n",
    "np.set_printoptions(threshold=sys.maxsize)\n",
    "print(a)"
   ]
  },
  {
   "cell_type": "markdown",
   "metadata": {},
   "source": [
    "# 10.Subtract the mean of each row of a matrix"
   ]
  },
  {
   "cell_type": "code",
   "execution_count": 22,
   "metadata": {},
   "outputs": [
    {
     "name": "stdout",
     "output_type": "stream",
     "text": [
      "Original matrix:\n",
      "\n",
      "[[0.45122161 0.79069048 0.31536506 0.14508491 0.55155578]\n",
      " [0.12560934 0.97777915 0.27171226 0.97695862 0.14137434]\n",
      " [0.43868559 0.22896103 0.97107737 0.97091336 0.82730738]\n",
      " [0.93089355 0.72001185 0.50501808 0.54963322 0.37930294]]\n",
      "\n",
      "Subtract the mean of each row of the said matrix:\n",
      "\n",
      "[[ 4.38040861e-04  3.39906912e-01 -1.35418504e-01 -3.05698658e-01\n",
      "   1.00772210e-01]\n",
      " [-3.73077399e-01  4.79092406e-01 -2.26974484e-01  4.78271881e-01\n",
      "  -3.57312404e-01]\n",
      " [-2.48703359e-01 -4.58427913e-01  2.83688420e-01  2.83524415e-01\n",
      "   1.39918437e-01]\n",
      " [ 3.13921620e-01  1.03039923e-01 -1.11953851e-01 -6.73387053e-02\n",
      "  -2.37668986e-01]]\n"
     ]
    }
   ],
   "source": [
    "print(\"Original matrix:\\n\")\n",
    "X = np.random.rand(4, 5)\n",
    "print(X)\n",
    "print(\"\\nSubtract the mean of each row of the said matrix:\\n\")\n",
    "Y = X - X.mean(axis=1, keepdims=True)\n",
    "print(Y)"
   ]
  },
  {
   "cell_type": "markdown",
   "metadata": {},
   "source": [
    "# 11.Consider a given vector, how to add 1 to each element indexed by a second vector (be careful with repeated indices)? "
   ]
  },
  {
   "cell_type": "code",
   "execution_count": 23,
   "metadata": {},
   "outputs": [
    {
     "name": "stdout",
     "output_type": "stream",
     "text": [
      "a= [1. 1. 1. 1. 1.]\n",
      "b= [1 4 1 1 1 3 0 3 0 0]\n"
     ]
    }
   ],
   "source": [
    "a= np.ones(5)\n",
    "print(\"a=\",a)\n",
    "b=np.random.randint(0,len(a),10)\n",
    "print(\"b=\",b)"
   ]
  },
  {
   "cell_type": "code",
   "execution_count": 24,
   "metadata": {},
   "outputs": [
    {
     "name": "stdout",
     "output_type": "stream",
     "text": [
      "[4. 5. 1. 3. 2.]\n"
     ]
    }
   ],
   "source": [
    "a +=np.bincount(b,minlength=len(a))\n",
    "print(a)"
   ]
  },
  {
   "cell_type": "markdown",
   "metadata": {},
   "source": [
    "# 12.How to get the diagonal of a dot product?"
   ]
  },
  {
   "cell_type": "code",
   "execution_count": 29,
   "metadata": {},
   "outputs": [
    {
     "name": "stdout",
     "output_type": "stream",
     "text": [
      "a=\n",
      " [[0 1 2]\n",
      " [3 4 5]\n",
      " [6 7 8]]\n",
      "b=\n",
      " [[0 1 2]\n",
      " [3 4 5]\n",
      " [6 7 8]]\n",
      "c=\n",
      " [ 15  54 111]\n"
     ]
    }
   ],
   "source": [
    "a= np.arange(9).reshape(3,3)\n",
    "print(\"a=\\n\",a)\n",
    "\n",
    "b= np.arange(9).reshape(3,3)\n",
    "print(\"b=\\n\",b)\n",
    "c=np.diag(a.dot(b))\n",
    "print(\"c=\\n\",c)"
   ]
  },
  {
   "cell_type": "markdown",
   "metadata": {},
   "source": [
    "# 13.How to find the most frequent value in an array?"
   ]
  },
  {
   "cell_type": "code",
   "execution_count": 31,
   "metadata": {},
   "outputs": [
    {
     "name": "stdout",
     "output_type": "stream",
     "text": [
      "Given array:\n",
      "[7 5 5 6 6 3 6 1 5 9 7 7 8 0 6 9 1 3 1 6 0 9 4 3 4 1 4 3 0 5 1 9 3 8 0 5 0\n",
      " 1 9 6]\n",
      "Most frequent value in the above array:\n",
      "1\n"
     ]
    }
   ],
   "source": [
    "a = np.random.randint(0, 10, 40)\n",
    "print(\"Given array:\")\n",
    "print(a)\n",
    "print(\"Most frequent value in the above array:\")\n",
    "print(np.bincount(a).argmax())"
   ]
  },
  {
   "cell_type": "markdown",
   "metadata": {},
   "source": [
    "# 14.How to get the n largest values of an array"
   ]
  },
  {
   "cell_type": "code",
   "execution_count": 36,
   "metadata": {},
   "outputs": [
    {
     "name": "stdout",
     "output_type": "stream",
     "text": [
      "Original array:\n",
      "[ 0  1  2  3  4  5  6  7  8  9 10 11 12 13 14]\n",
      "[14]\n"
     ]
    }
   ],
   "source": [
    "a = np.arange(15)\n",
    "print(\"Original array:\")\n",
    "print(a)\n",
    "np.random.shuffle(a)\n",
    "n = 1\n",
    "print (a[np.argsort(a)[-n:]])"
   ]
  },
  {
   "cell_type": "markdown",
   "metadata": {},
   "source": [
    "# 15.How to create a record array from a regular array?"
   ]
  },
  {
   "cell_type": "code",
   "execution_count": 40,
   "metadata": {},
   "outputs": [],
   "source": [
    "a =np.array(['sklearn','numpy','pandas'])\n",
    "b=np.array([98,56,12])\n",
    "c=np.array(['q','r','s'])\n",
    "results=np.core.records.fromarrays([a,b,c])"
   ]
  },
  {
   "cell_type": "code",
   "execution_count": 41,
   "metadata": {},
   "outputs": [
    {
     "name": "stdout",
     "output_type": "stream",
     "text": [
      "('sklearn', 98, 'q')\n",
      "('numpy', 56, 'r')\n",
      "('pandas', 12, 's')\n"
     ]
    }
   ],
   "source": [
    "print(result[0])\n",
    "print(result[1])\n",
    "print(result[2])"
   ]
  },
  {
   "cell_type": "code",
   "execution_count": null,
   "metadata": {},
   "outputs": [],
   "source": []
  }
 ],
 "metadata": {
  "kernelspec": {
   "display_name": "Python 3",
   "language": "python",
   "name": "python3"
  },
  "language_info": {
   "codemirror_mode": {
    "name": "ipython",
    "version": 3
   },
   "file_extension": ".py",
   "mimetype": "text/x-python",
   "name": "python",
   "nbconvert_exporter": "python",
   "pygments_lexer": "ipython3",
   "version": "3.7.6"
  }
 },
 "nbformat": 4,
 "nbformat_minor": 2
}
