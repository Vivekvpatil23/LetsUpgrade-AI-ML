{
 "cells": [
  {
   "cell_type": "code",
   "execution_count": 1,
   "metadata": {},
   "outputs": [
    {
     "name": "stdout",
     "output_type": "stream",
     "text": [
      "Enter the first complex number: 2+3j\n",
      "Enter the secound complex number: 6-5j\n",
      "Subtraction of two complex number is:  (-4+8j)\n"
     ]
    }
   ],
   "source": [
    "'''Question 1 :\n",
    "Write a program to subtract two complex numbers in Python.'''\n",
    "\n",
    "x = complex(input(\"Enter the first complex number: \"))\n",
    "y = complex(input(\"Enter the secound complex number: \"))\n",
    "\n",
    "z=x-y\n",
    "print(\"Subtraction of two complex number is: \",z)"
   ]
  },
  {
   "cell_type": "code",
   "execution_count": 3,
   "metadata": {},
   "outputs": [
    {
     "name": "stdout",
     "output_type": "stream",
     "text": [
      "Enter the number: 256\n",
      "Fourth root of a number is:  4.0\n"
     ]
    }
   ],
   "source": [
    "'''Question 2 :\n",
    "Write a program to find the fourth root of a number.'''\n",
    "x=int(input(\"Enter the number: \"))\n",
    "y=x**(1/4)\n",
    "print(\"Fourth root of a number is: \",y)"
   ]
  },
  {
   "cell_type": "code",
   "execution_count": 4,
   "metadata": {},
   "outputs": [
    {
     "name": "stdout",
     "output_type": "stream",
     "text": [
      "Enter the first num: 56\n",
      "Ente the secound num: 12\n",
      "The two swapped number are:a = 12 b = 56\n"
     ]
    }
   ],
   "source": [
    "'''Question 3:\n",
    "Write a program to swap two numbers in Python with the help of a temporary variable.'''\n",
    "a= input(\"Enter the first num: \")\n",
    "b= input(\"Ente the secound num: \")\n",
    "\n",
    "temp=a\n",
    "a=b\n",
    "b=temp\n",
    "\n",
    "print(\"The two swapped number are:a =\",a,\"b =\",b)"
   ]
  },
  {
   "cell_type": "code",
   "execution_count": 6,
   "metadata": {},
   "outputs": [
    {
     "name": "stdout",
     "output_type": "stream",
     "text": [
      "Enter the first num: 23\n",
      "Ente the secound num: 85\n",
      "The two swapped number are:a = 85 b = 23\n"
     ]
    }
   ],
   "source": [
    "'''Question 4:\n",
    "Write a program to swap two numbers in Python without using a temporary variable.'''\n",
    "a= int(input(\"Enter the first num: \"))\n",
    "b= int(input(\"Ente the secound num: \"))\n",
    "\n",
    "a =a + b\n",
    "b =a - b\n",
    "a =a - b\n",
    "\n",
    "print(\"The two swapped number are:a =\",a,\"b =\",b)"
   ]
  },
  {
   "cell_type": "code",
   "execution_count": 7,
   "metadata": {},
   "outputs": [
    {
     "name": "stdout",
     "output_type": "stream",
     "text": [
      "Enter the degrees in fahrenheit: 155\n",
      "the conversion of fahrenheit to kelvin is:  341.83333333333337\n",
      "the conversion of fahrenheit to celsius is:  68.33333333333333\n"
     ]
    }
   ],
   "source": [
    "'''Question 5:\n",
    "Write a program to convert fahrenheit to kelvin and celsius both.'''\n",
    "\n",
    "a = float(input(\"Enter the degrees in fahrenheit: \"))\n",
    "\n",
    "b = 273.5 + ((a - 32.0) * (5.0/9.0))\n",
    "c  = (a - 32) * 5.0/9.0\n",
    "\n",
    "print(\"the conversion of fahrenheit to kelvin is: \",b)\n",
    "print(\"the conversion of fahrenheit to celsius is: \",c)"
   ]
  },
  {
   "cell_type": "code",
   "execution_count": 8,
   "metadata": {},
   "outputs": [
    {
     "name": "stdout",
     "output_type": "stream",
     "text": [
      "The type of a is <class 'int'>\n",
      "The type of b is <class 'float'>\n",
      "The type of c is <class 'complex'>\n",
      "The type of d is <class 'str'>\n",
      "The type of e is <class 'list'>\n",
      "The type of f is <class 'tuple'>\n",
      "The type of g is <class 'dict'>\n",
      "The type of h is <class 'set'>\n",
      "The type of i is <class 'bool'>\n"
     ]
    }
   ],
   "source": [
    "'''Question 6:\n",
    "Write a program to demonstrate all the available data types in Python. Hint: Use type() function.'''\n",
    "\n",
    "a = 10\n",
    "print(\"The type of a is\",type(a))\n",
    "\n",
    "b = 6.0\n",
    "print(\"The type of b is\",type(b))\n",
    "\n",
    "c = 3+2j\n",
    "print(\"The type of c is\", type(c))\n",
    "\n",
    "d = \"Hello LetsUpgrade\"\n",
    "print(\"The type of d is\",type(d))\n",
    "\n",
    "e = [\"python\", \"c#\", \"java\"]\n",
    "print(\"The type of e is\",type(e)) \n",
    "\n",
    "f = (\"python\", \"c++\", \"java\")\n",
    "print(\"The type of f is\",type(f))\n",
    "\n",
    "g = {\"Name\" : \"vivek\", \"age\" : 22}\t\n",
    "print(\"The type of g is\",type(g))\n",
    "\n",
    "h = {\"python\", \"c\", \"java\"}\t\n",
    "print(\"The type of h is\",type(h))\n",
    "\n",
    "i = True\n",
    "print(\"The type of i is\",type(i))\n"
   ]
  },
  {
   "cell_type": "code",
   "execution_count": null,
   "metadata": {},
   "outputs": [],
   "source": [
    "Question 7: Create a Markdown cell in jupyter and list the steps discussed in the session by Dr. Darshan Ingle sir to create Github profile and upload Githubs Assignment link.\n",
    "\n",
    "Step 1: Sign in/login to www.github.com. \n",
    "Step 2: Create a Repository with the name LetsUpgrade AI-ML.(should be public) \n",
    "Step 3: If you have completed the assignment the in github select the repository. \n",
    "Step 4: Select the Uploading an existing file and upload the file. \n",
    "Step 5: Once uploaded select the url and paste in the form provided by the LetsUpgrade"
   ]
  }
 ],
 "metadata": {
  "kernelspec": {
   "display_name": "Python 3",
   "language": "python",
   "name": "python3"
  },
  "language_info": {
   "codemirror_mode": {
    "name": "ipython",
    "version": 3
   },
   "file_extension": ".py",
   "mimetype": "text/x-python",
   "name": "python",
   "nbconvert_exporter": "python",
   "pygments_lexer": "ipython3",
   "version": "3.7.6"
  }
 },
 "nbformat": 4,
 "nbformat_minor": 4
}
